{
 "cells": [
  {
   "cell_type": "code",
   "execution_count": 5,
   "metadata": {},
   "outputs": [
    {
     "name": "stdout",
     "output_type": "stream",
     "text": [
      "3.4.2\n"
     ]
    }
   ],
   "source": [
    "import os\n",
    "from os import walk\n",
    "import imutils\n",
    "from imutils import perspective\n",
    "from imutils import contours\n",
    "import shutil\n",
    "import numpy as np\n",
    "import subprocess\n",
    "import cv2 as cv\n",
    "from matplotlib import pyplot as plt\n",
    "from scipy.spatial import distance\n",
    "import _pickle as cPickle\n",
    "\n",
    "print (cv.__version__)"
   ]
  },
  {
   "cell_type": "markdown",
   "metadata": {},
   "source": [
    "### Convert Video to image"
   ]
  },
  {
   "cell_type": "code",
   "execution_count": 6,
   "metadata": {},
   "outputs": [],
   "source": [
    "def get_VideoSet ( path ):\n",
    "    f = []\n",
    "    d = \"\"\n",
    "    for (dirpath, dirnames, filenames) in walk(path):\n",
    "        f.extend(filenames)\n",
    "        print(\"Number of Videos Found: \"+str(len(filenames)))\n",
    "        break\n",
    "    return f"
   ]
  },
  {
   "cell_type": "code",
   "execution_count": 7,
   "metadata": {},
   "outputs": [],
   "source": [
    "def generate_ImagesFromVideo ( fileDir, files ):\n",
    "    sample_freq = 5000\n",
    "    dirPath = \"_tmp\"\n",
    "    outPath = dirPath + \"\\%08d.jpg\"\n",
    "    if ( not(os.path.exists(dirPath)) ):\n",
    "        os.mkdir(dirPath)  \n",
    "        \n",
    "    num = 0\n",
    "    for f in files:\n",
    "        file = fileDir+\"\\\\\"+f\n",
    "        subprocess.call([\"ffmpeg\", \"-i\", file, \"-vf\", \"scale=640:480\", \"-b:v\", \"5000k\", outPath ])\n",
    "        num += 1\n",
    "        print(\"\\r>> Processing Video {}\".format(num), end='')\n",
    "        \n",
    "    for (dirpath, dirnames, filenames) in walk(dirPath): \n",
    "        print(\"\\nTotal Number of Images: \" + str(len(filenames)))"
   ]
  },
  {
   "cell_type": "markdown",
   "metadata": {},
   "source": [
    "### Find Detect Objects"
   ]
  },
  {
   "cell_type": "code",
   "execution_count": 8,
   "metadata": {},
   "outputs": [],
   "source": [
    "def FindObject (img):\n",
    "    hsv_img = cv.cvtColor(img, cv.COLOR_BGR2HSV)\n",
    "    d = hsv_img.shape\n",
    "    org = np.array(d[:2])/2\n",
    "    \n",
    "    brown_min = np.array([0, 0, 0], np.uint8)\n",
    "    brown_max = np.array([145, 255, 255], np.uint8)\n",
    "\n",
    "    mask_inverse  = cv.inRange(hsv_img, brown_min, brown_max)\n",
    "    mask = cv.bitwise_not(mask_inverse)\n",
    "\n",
    "    # find contours in the edge map\n",
    "    cnts = cv.findContours(mask.copy(), cv.RETR_EXTERNAL,\n",
    "    cv.CHAIN_APPROX_SIMPLE)\n",
    "    cnts = imutils.grab_contours(cnts)\n",
    "    if ( cnts ):\n",
    "        # sort the contours from left-to-right and initialize the\n",
    "        # 'pixels per metric' calibration variable\n",
    "        (cnts, _) = contours.sort_contours(cnts)\n",
    "\n",
    "        LD = 0\n",
    "        filter = 0\n",
    "        print(\"Number of Contours: \" + str(len(cnts)))\n",
    "        for c in cnts:\n",
    "            if cv.contourArea(c) > 500:\n",
    "                C1 = cv.boundingRect(c)\n",
    "                C2 = np.array(C1[:2])/1\n",
    "                D = abs(distance.euclidean(org, C2))\n",
    "                if ( D < LD or LD == 0):\n",
    "                    filter = c\n",
    "                    print(len(filter))\n",
    "                    LD = D\n",
    "\n",
    "        return(filter)\n",
    "    else:\n",
    "        return []\n",
    "            "
   ]
  },
  {
   "cell_type": "code",
   "execution_count": 9,
   "metadata": {},
   "outputs": [],
   "source": [
    "def ScrapImage (img, outfile, size):\n",
    "    cnt = FindObject(img)\n",
    "    box = cv.boundingRect(cnt)\n",
    "    x,y,w,h = box\n",
    "    x -= 50\n",
    "    if ( x < 0 ): x = 0\n",
    "    y -= 50\n",
    "    if ( y < 0 ): y = 0\n",
    "    w += 100\n",
    "    h += 100\n",
    "\n",
    "    cropped = img[y:y+h, x:x+w]\n",
    "    \n",
    "    Rx = size/w\n",
    "    Ry = size/h\n",
    "    \n",
    "    resized = cv.resize(cropped, (0,0), fx=Rx, fy=Ry)\n",
    "    print(outfile)\n",
    "    try:\n",
    "        cv.imwrite(outfile, resized)\n",
    "        return 1\n",
    "    except ValueError:\n",
    "        print(\"Exception\")\n",
    "        return 0"
   ]
  },
  {
   "cell_type": "code",
   "execution_count": 10,
   "metadata": {},
   "outputs": [],
   "source": [
    "def EasyScrapImage(img,outfile, resize):\n",
    "    i = img.shape\n",
    "    start = np.array(i[:2])/4\n",
    "    start = list(start.astype(int))\n",
    "    x,y = start\n",
    "    length = np.array(i[:2])/2\n",
    "    length = list(length.astype(int))\n",
    "    w,h = length\n",
    "    \n",
    "    # Crop Image\n",
    "    cropped = img[y:y+h, x:x+w]\n",
    "    \n",
    "    Rx = resize/w\n",
    "    Ry = resize/h\n",
    "    resized = cv.resize(cropped, (0,0), fx=Rx, fy=Ry)\n",
    "    try:\n",
    "        cv.imwrite(outfile, resized)\n",
    "        return 1\n",
    "    except ValueError:\n",
    "        print(\"Exception\")\n",
    "        return 0"
   ]
  },
  {
   "cell_type": "code",
   "execution_count": 11,
   "metadata": {},
   "outputs": [],
   "source": [
    "def ScrapeDataImages ( path, outdir, mode=1 ):\n",
    "    if ( not(os.path.exists(outdir)) ):\n",
    "            os.mkdir(outdir) \n",
    "    num =0\n",
    "    for (dirpath, dirnames, filenames) in walk(path):\n",
    "        print( \"Files Found: \"+str(len(filenames)))\n",
    "        for file in filenames:\n",
    "            img = cv.imread(dirpath+\"\\\\\"+file)\n",
    "            num += 1\n",
    "            print(\"\\r>> Processing Image {}\".format(num), end='')\n",
    "            if ( mode == 0 ):\n",
    "                ret = ScrapImage(img,outdir+file,obj,64)\n",
    "            else :\n",
    "                ret = EasyScrapImage( img,outdir+file,64 )\n",
    "                \n",
    "            if ( ret == 0 ):\n",
    "                break\n",
    "    print(\"\\nNumber of Files Processed: \"+str(num))"
   ]
  },
  {
   "cell_type": "code",
   "execution_count": 12,
   "metadata": {},
   "outputs": [],
   "source": [
    "def DecomposeRGB(img):\n",
    "    height,width,color=img.shape\n",
    "    red = []\n",
    "    blue = []\n",
    "    green = []\n",
    "    for h in range(height):\n",
    "        redline = []\n",
    "        blueline = []\n",
    "        greenline = []\n",
    "        \n",
    "        for w in range(width):\n",
    "            redline.append(img[h][w][2])\n",
    "            blueline.append(img[h][w][0])\n",
    "            greenline.append(img[h][w][1])\n",
    "            \n",
    "        red.append(np.array(redline, dtype=np.int)) \n",
    "        blue.append(np.array(blueline, dtype=np.int))\n",
    "        green.append(np.array(greenline, dtype=np.int))\n",
    "        \n",
    "    color = [np.array(red, dtype=np.int), \n",
    "             np.array(green, dtype=np.int),\n",
    "             np.array(blue, dtype=np.int)]\n",
    "    return np.array(color, dtype=np.int)\n",
    "    #color = [red,green, blue ]\n",
    "    #return color"
   ]
  },
  {
   "cell_type": "code",
   "execution_count": 30,
   "metadata": {},
   "outputs": [],
   "source": [
    "def CreateDataSetFile ( path, outFile, label ):\n",
    "    if ( os.path.exists(outFile)):\n",
    "        os.remove(outFile) \n",
    "    fhandle = open(outFile, 'bw+')\n",
    "    data = {'filenames':[],'labels':[],'data':[]}\n",
    "    for (dirpath, dirnames, filenames) in walk(path):\n",
    "        total = len(filenames)\n",
    "        num = 0\n",
    "        for file in filenames:\n",
    "            img = cv.imread(dirpath+\"\\\\\"+file)\n",
    "            \n",
    "            # decomp_image = DecomposeRGB(img)\n",
    "            decomp_image = img\n",
    "            \n",
    "            data['filenames'].append(file)\n",
    "            data['labels'].append(label)\n",
    "            data['data'].append(decomp_image)\n",
    "            num += 1\n",
    "            percentage = num/total * 100\n",
    "            print(\"\\r>> You have finished {0:.2f}%\".format(percentage), end='')\n",
    "    data['data']=np.array(data['data'])\n",
    "    cPickle.dump(data, fhandle)\n",
    "    fhandle.close()        \n",
    "    print(\"\\nDone\")     "
   ]
  },
  {
   "cell_type": "code",
   "execution_count": null,
   "metadata": {},
   "outputs": [],
   "source": [
    "### Create Poo Detector DataSet"
   ]
  },
  {
   "cell_type": "code",
   "execution_count": 33,
   "metadata": {},
   "outputs": [],
   "source": [
    "# Set path to poo data set\n",
    "path = \"rawdata\\\\poo_det\"\n",
    "\n",
    "# Generate Data set images from Videos\n",
    "generate_ImagesFromVideo(path, get_VideoSet(path))\n",
    "\n",
    "# Scrape images for objects\n",
    "ScrapeDataImages(\"_tmp\",\"_tmp2\\\\\")\n",
    "# Create a singe data set\n",
    "CreateDataSetFile(\"_tmp2\",\"batch_poo\",0)\n",
    "\n",
    "# Clean up\n",
    "shutil.rmtree(\"_tmp2\")\n",
    "shutil.rmtree(\"_tmp\")"
   ]
  },
  {
   "cell_type": "code",
   "execution_count": 47,
   "metadata": {},
   "outputs": [
    {
     "name": "stdout",
     "output_type": "stream",
     "text": [
      "Number of Videos Found: 3\n",
      ">> Processing Video 3\n",
      "Total Number of Images: 349\n",
      "Files Found: 349\n",
      ">> Processing Image 349\n",
      "Number of Files Processed: 349\n",
      ">> You have finished 100.00%\n",
      "Done\n"
     ]
    }
   ],
   "source": [
    "# Set path to poo data set\n",
    "path = \"rawdata\\\\wire_det\"\n",
    "file = \"batch_wire\"\n",
    "\n",
    "# Generate Data set images from Videos\n",
    "generate_ImagesFromVideo(path, get_VideoSet(path))\n",
    "\n",
    "# Scrape images for objects\n",
    "ScrapeDataImages(\"_tmp\",\"_tmp2\\\\\")\n",
    "# Create a singe data set\n",
    "CreateDataSetFile(\"_tmp2\",file,0)\n",
    "\n",
    "# Clean up\n",
    "shutil.rmtree(\"_tmp2\")\n",
    "shutil.rmtree(\"_tmp\")"
   ]
  },
  {
   "cell_type": "markdown",
   "metadata": {},
   "source": [
    "## Clean up"
   ]
  },
  {
   "cell_type": "code",
   "execution_count": 35,
   "metadata": {},
   "outputs": [],
   "source": [
    "shutil.rmtree(\"_tmp2\")\n",
    "\n",
    "shutil.rmtree(\"_tmp\")"
   ]
  },
  {
   "cell_type": "markdown",
   "metadata": {},
   "source": [
    "### Test"
   ]
  },
  {
   "cell_type": "code",
   "execution_count": 36,
   "metadata": {},
   "outputs": [],
   "source": [
    "class_names = [\"poo\",\"ring\",\"wire\"]"
   ]
  },
  {
   "cell_type": "code",
   "execution_count": 40,
   "metadata": {},
   "outputs": [],
   "source": [
    "def OpenDataSet ( file ):\n",
    "    with open(file, 'rb') as fo:\n",
    "        dataset = cPickle.load(fo, encoding='bytes')\n",
    "        print(dataset.keys())\n",
    "    return dataset"
   ]
  },
  {
   "cell_type": "code",
   "execution_count": 45,
   "metadata": {},
   "outputs": [],
   "source": [
    "def PlotDataSet(images, labels, smooth=True):\n",
    "\n",
    "    assert len(images) == len(labels) == 9\n",
    "\n",
    "    # Create figure with sub-plots.\n",
    "    fig, axes = plt.subplots(3, 3)\n",
    "\n",
    "    # Adjust vertical spacing if we need to print ensemble and best-net.\n",
    "    hspace = 0.6\n",
    "    \n",
    "    fig.subplots_adjust(hspace=hspace, wspace=0.3)\n",
    "\n",
    "    for i, ax in enumerate(axes.flat):\n",
    "        # Interpolation type.\n",
    "        if smooth:\n",
    "            interpolation = 'spline16'\n",
    "        else:\n",
    "            interpolation = 'nearest'\n",
    "\n",
    "        # Plot image.\n",
    "        ax.imshow(images[i,:, :, :],\n",
    "                  interpolation=interpolation)\n",
    "            \n",
    "        # Name of the true class.\n",
    "        cls_true_name = class_names[labels[i]]\n",
    "\n",
    "        # Show true and predicted classes.\n",
    "        xlabel = \"True: {0}\".format(cls_true_name)\n",
    "\n",
    "        # Show the classes as the label on the x-axis.\n",
    "        ax.set_xlabel(xlabel)\n",
    "        \n",
    "        # Remove ticks from the plot.\n",
    "        ax.set_xticks([])\n",
    "        ax.set_yticks([])\n",
    "    \n",
    "    # Ensure the plot is shown correctly with multiple plots\n",
    "    # in a single Notebook cell.\n",
    "    plt.show()"
   ]
  },
  {
   "cell_type": "code",
   "execution_count": 42,
   "metadata": {},
   "outputs": [
    {
     "name": "stdout",
     "output_type": "stream",
     "text": [
      "dict_keys(['filenames', 'labels', 'data'])\n"
     ]
    }
   ],
   "source": [
    "dataset = OpenDataSet(\"batch_poo\")\n",
    "print \n",
    "# Get the first images from the test-set.\n",
    "images = dataset['data'][0:9]\n",
    "\n",
    "# Get the true classes for those images.\n",
    "labels = dataset['labels'][0:9]"
   ]
  },
  {
   "cell_type": "code",
   "execution_count": 44,
   "metadata": {},
   "outputs": [
    {
     "name": "stdout",
     "output_type": "stream",
     "text": [
      "Size of:\n",
      "- Training-set:\t\t9\n",
      "(9, 64, 64, 3)\n"
     ]
    }
   ],
   "source": [
    "print(\"Size of:\")\n",
    "print(\"- Training-set:\\t\\t{}\".format(len(images)))\n",
    "print(images.shape)"
   ]
  },
  {
   "cell_type": "code",
   "execution_count": 46,
   "metadata": {},
   "outputs": [
    {
     "data": {
      "image/png": "[encoded data removed]",
      "text/plain": [
       "<Figure size 432x288 with 9 Axes>"
      ]
     },
     "metadata": {},
     "output_type": "display_data"
    }
   ],
   "source": [
    "# Plot the images and labels using our helper-function above.\n",
    "PlotDataSet(images=images, labels=labels, smooth=False)"
   ]
  },
  {
   "cell_type": "code",
   "execution_count": null,
   "metadata": {},
   "outputs": [],
   "source": []
  }
 ],
 "metadata": {
  "kernelspec": {
   "display_name": "Python 3",
   "language": "python",
   "name": "python3"
  },
  "language_info": {
   "codemirror_mode": {
    "name": "ipython",
    "version": 3
   },
   "file_extension": ".py",
   "mimetype": "text/x-python",
   "name": "python",
   "nbconvert_exporter": "python",
   "pygments_lexer": "ipython3",
   "version": "3.6.9"
  }
 },
 "nbformat": 4,
 "nbformat_minor": 4
}
