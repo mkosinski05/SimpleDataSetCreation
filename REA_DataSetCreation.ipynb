{
 "cells": [
  {
   "cell_type": "code",
   "execution_count": 4,
   "metadata": {},
   "outputs": [
    {
     "name": "stdout",
     "output_type": "stream",
     "text": [
      "3.4.2\n"
     ]
    }
   ],
   "source": [
    "import os\n",
    "from os import walk\n",
    "import imutils\n",
    "import subprocess\n",
    "import cv2 as cv\n",
    "from matplotlib import pyplot as plt\n",
    "\n",
    "print (cv.__version__)"
   ]
  },
  {
   "cell_type": "markdown",
   "metadata": {},
   "source": [
    "### Convert Video to image"
   ]
  },
  {
   "cell_type": "code",
   "execution_count": 5,
   "metadata": {},
   "outputs": [],
   "source": [
    "def get_VideoSet ( path ):\n",
    "    f = []\n",
    "    d = \"\"\n",
    "    for (dirpath, dirnames, filenames) in walk(path):\n",
    "        f.extend(filenames)\n",
    "        d = dirpath\n",
    "        break\n",
    "    return f, d"
   ]
  },
  {
   "cell_type": "code",
   "execution_count": 6,
   "metadata": {},
   "outputs": [
    {
     "name": "stdout",
     "output_type": "stream",
     "text": [
      "C:\\Users\\REA\\Anaconda_wks\\TF1\\pDataSet\n",
      "detected\n",
      "['IMG_1022.MOV', 'IMG_1023.MOV', 'IMG_1024.MOV', 'IMG_1025.MOV', 'IMG_1027.MOV', 'IMG_1028.MOV', 'IMG_1032.MOV', 'IMG_1033.MOV', 'IMG_1034.MOV', 'IMG_1035.MOV', 'IMG_1036.MOV', 'IMG_1037.MOV', 'IMG_1038.MOV', 'IMG_1041.MOV', 'IMG_1047.MOV', 'IMG_1048.MOV', 'IMG_1049.MOV', 'IMG_1050.MOV']\n",
      "notDetected\n",
      "['IMG_1021.MOV', 'IMG_1026.MOV', 'IMG_1031.MOV', 'IMG_1039.MOV', 'IMG_1045.MOV']\n"
     ]
    }
   ],
   "source": [
    "print(os.getcwd())\n",
    "det_files, det_dir   = get_VideoSet(\"detected\")\n",
    "print(det_dir)\n",
    "print(det_files)\n",
    "ndet_files, ndet_dir = get_VideoSet(\"notDetected\")\n",
    "print(ndet_dir)\n",
    "print(ndet_files)"
   ]
  },
  {
   "cell_type": "code",
   "execution_count": 7,
   "metadata": {},
   "outputs": [],
   "source": [
    "def get_ImagesFromVideo ( dir ):\n",
    "    sample_freq = 5000\n",
    "    dirPath = dir + \"\\_tmp\"\n",
    "    outPath = dirPath + \"\\%08d.jpg\"\n",
    "    if ( not(os.path.exists(dirPath)) ):\n",
    "        os.mkdir(dirPath)  \n",
    "    \n",
    "    for f in det_files:\n",
    "        file = det_dir+\"\\\\\"+f\n",
    "        print (file)\n",
    "        subprocess.call([\"ffmpeg\", \"-i\", file, \"-vf\", \"scale=640:480\", \"-b:v\", \"5000k\", outPath ])\n",
    "        "
   ]
  },
  {
   "cell_type": "code",
   "execution_count": 8,
   "metadata": {},
   "outputs": [
    {
     "name": "stdout",
     "output_type": "stream",
     "text": [
      "detected\\IMG_1022.MOV\n",
      "detected\\IMG_1023.MOV\n",
      "detected\\IMG_1024.MOV\n",
      "detected\\IMG_1025.MOV\n",
      "detected\\IMG_1027.MOV\n",
      "detected\\IMG_1028.MOV\n",
      "detected\\IMG_1032.MOV\n",
      "detected\\IMG_1033.MOV\n",
      "detected\\IMG_1034.MOV\n",
      "detected\\IMG_1035.MOV\n",
      "detected\\IMG_1036.MOV\n",
      "detected\\IMG_1037.MOV\n",
      "detected\\IMG_1038.MOV\n",
      "detected\\IMG_1041.MOV\n",
      "detected\\IMG_1047.MOV\n",
      "detected\\IMG_1048.MOV\n",
      "detected\\IMG_1049.MOV\n",
      "detected\\IMG_1050.MOV\n"
     ]
    }
   ],
   "source": [
    "get_ImagesFromVideo(det_dir)"
   ]
  },
  {
   "cell_type": "markdown",
   "metadata": {},
   "source": [
    "### Find Detect Objects"
   ]
  },
  {
   "cell_type": "code",
   "execution_count": null,
   "metadata": {},
   "outputs": [],
   "source": [
    "path = \"pDataSet\\detected\\_tmp\"\n",
    "\n",
    "\n",
    "for (dirpath, dirnames, filenames) in walk(path):\n",
    "    print(filenames)\n",
    "    for file in filenames:\n",
    "        print(dirpath+\"\\\\\"+file)\n",
    "        img = cv.imread(dirpath+\"\\\\\"+file)\n",
    "        imgray = cv.cvtColor(img, cv.COLOR_BGR2GRAY)\n",
    "        ret, thresh = cv.threshold(imgray, 127, 255, 0)\n",
    "        cnts = cv.findContours(thresh, cv.RETR_TREE, cv.CHAIN_APPROX_SIMPLE)\n",
    "        print(h)\n",
    "        for cnt in cnts:\n",
    "            cv2.drawContours(imgray, cnt, -1, (0, 255, 0), 3)\n",
    "            cv2.imshow(\"Found image\", imgray)\n",
    "            cv2.waitKey(0)\n",
    "\n",
    "        break\n",
    "        #\n",
    "    break"
   ]
  },
  {
   "cell_type": "code",
   "execution_count": null,
   "metadata": {},
   "outputs": [],
   "source": []
  }
 ],
 "metadata": {
  "kernelspec": {
   "display_name": "Python 3",
   "language": "python",
   "name": "python3"
  },
  "language_info": {
   "codemirror_mode": {
    "name": "ipython",
    "version": 3
   },
   "file_extension": ".py",
   "mimetype": "text/x-python",
   "name": "python",
   "nbconvert_exporter": "python",
   "pygments_lexer": "ipython3",
   "version": "3.6.9"
  }
 },
 "nbformat": 4,
 "nbformat_minor": 2
}
