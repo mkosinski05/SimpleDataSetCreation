{
 "cells": [
  {
   "cell_type": "code",
   "execution_count": 67,
   "metadata": {},
   "outputs": [],
   "source": [
    "# import the necessary packages\n",
    "from scipy.spatial import distance as dist\n",
    "from imutils import perspective\n",
    "from imutils import contours\n",
    "import numpy as np\n",
    "import argparse\n",
    "import imutils\n",
    "import cv2\n",
    "from matplotlib import pyplot as plt"
   ]
  },
  {
   "cell_type": "code",
   "execution_count": 68,
   "metadata": {},
   "outputs": [],
   "source": [
    "def viewImage(image):\n",
    "    cv2.namedWindow('Display', cv2.WINDOW_NORMAL)\n",
    "    cv2.imshow('Display', image)\n",
    "    cv2.waitKey(0)\n",
    "    cv2.destroyAllWindows()"
   ]
  },
  {
   "cell_type": "code",
   "execution_count": 69,
   "metadata": {},
   "outputs": [],
   "source": [
    "# load the image, convert it to grayscale, and blur it slightly\n",
    "img = cv2.imread('pDataSet/detected/_tmp/00000001.jpg')\n",
    "viewImage(img)"
   ]
  },
  {
   "cell_type": "code",
   "execution_count": 70,
   "metadata": {},
   "outputs": [],
   "source": [
    "hsv_img = cv2.cvtColor(img, cv2.COLOR_BGR2HSV)\n",
    "viewImage(hsv_img) ## 1"
   ]
  },
  {
   "cell_type": "code",
   "execution_count": 71,
   "metadata": {},
   "outputs": [],
   "source": [
    "#blue_min = np.array([85, 60, 60], np.uint8)\n",
    "brown_min = np.array([0, 0, 0], np.uint8)\n",
    "#blue_max = np.array([150, 255, 255], np.uint8)\n",
    "brown_max = np.array([145, 255, 255], np.uint8)\n",
    "\n",
    "mask_inverse  = cv2.inRange(hsv_img, brown_min, brown_max)\n",
    "#hsv_img[curr_mask > 0] = ([75,255,200])\n",
    "#mask  = cv2.bitwise_and(hsv_img,hsv_img, mask= mask_inverse)\n",
    "mask = cv2.bitwise_not(mask_inverse)\n",
    "\n",
    "mask_img  = cv2.bitwise_and(img,img, mask= mask)\n",
    "viewImage(mask_img)"
   ]
  },
  {
   "cell_type": "code",
   "execution_count": 72,
   "metadata": {},
   "outputs": [],
   "source": [
    "# perform edge detection, then perform a dilation + erosion to\n",
    "# close gaps in between object edges\n",
    "#edged = cv2.Canny(mask, 50, 100)\n",
    "edged = cv2.dilate(mask, None, iterations=1)\n",
    "edged = cv2.erode(edged, None, iterations=1)\n",
    "viewImage(edged)"
   ]
  },
  {
   "cell_type": "code",
   "execution_count": 73,
   "metadata": {},
   "outputs": [],
   "source": [
    "# find contours in the edge map\n",
    "cnts = cv2.findContours(edged.copy(), cv2.RETR_EXTERNAL,\n",
    "cv2.CHAIN_APPROX_SIMPLE)\n",
    "cnts = imutils.grab_contours(cnts)\n",
    " \n",
    "# sort the contours from left-to-right and initialize the\n",
    "# 'pixels per metric' calibration variable\n",
    "(cnts, _) = contours.sort_contours(cnts)\n",
    "screenCnt = None"
   ]
  },
  {
   "cell_type": "code",
   "execution_count": 74,
   "metadata": {},
   "outputs": [
    {
     "name": "stdout",
     "output_type": "stream",
     "text": [
      "71\n",
      "1\n"
     ]
    }
   ],
   "source": [
    "filter = []\n",
    "print(len(cnts))\n",
    "for c in cnts:\n",
    "    if cv2.contourArea(c) > 500:\n",
    "        filter.append(c)\n",
    "print(len(filter))"
   ]
  },
  {
   "cell_type": "code",
   "execution_count": 75,
   "metadata": {},
   "outputs": [],
   "source": [
    "box = cv2.boundingRect(filter[0])\n",
    "x,y,w,h = box\n",
    "x -= 50\n",
    "y -= 50\n",
    "w += 100\n",
    "h += 100\n",
    "cv2.rectangle(img,(x,y),(x+w,y+h),(0,255,0),2)\n",
    "viewImage(img)"
   ]
  },
  {
   "cell_type": "code",
   "execution_count": 79,
   "metadata": {},
   "outputs": [],
   "source": [
    "cropped = img[y:y+h, x:x+w]\n",
    "viewImage(cropped)"
   ]
  },
  {
   "cell_type": "code",
   "execution_count": null,
   "metadata": {},
   "outputs": [
    {
     "name": "stdout",
     "output_type": "stream",
     "text": [
      "(64, 64)\n"
     ]
    }
   ],
   "source": [
    "Rx = 64/w\n",
    "Ry = 64/h\n",
    "resized = cv2.resize(cropped, (0,0), fx=Rx, fy=Ry) \n",
    "print(resized.shape[:2])\n",
    "viewImage(resized)"
   ]
  },
  {
   "cell_type": "code",
   "execution_count": null,
   "metadata": {},
   "outputs": [],
   "source": []
  }
 ],
 "metadata": {
  "kernelspec": {
   "display_name": "Python 3",
   "language": "python",
   "name": "python3"
  },
  "language_info": {
   "codemirror_mode": {
    "name": "ipython",
    "version": 3
   },
   "file_extension": ".py",
   "mimetype": "text/x-python",
   "name": "python",
   "nbconvert_exporter": "python",
   "pygments_lexer": "ipython3",
   "version": "3.6.9"
  }
 },
 "nbformat": 4,
 "nbformat_minor": 2
}
